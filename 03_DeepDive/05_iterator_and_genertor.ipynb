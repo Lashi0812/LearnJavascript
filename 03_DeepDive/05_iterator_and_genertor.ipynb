{
 "cells": [
  {
   "cell_type": "code",
   "execution_count": 1,
   "metadata": {},
   "outputs": [
    {
     "name": "stdout",
     "output_type": "stream",
     "text": [
      "hello [ \"w\", \"o\", \"r\", \"d\", \"s\" ]\n",
      "{ value: \"h\", done: false }\n",
      "{ value: \"e\", done: false }\n",
      "{ value: \"l\", done: false }\n",
      "{ value: \"l\", done: false }\n",
      "{ value: \"o\", done: false }\n",
      "{ value: undefined, done: true }\n",
      "{ value: \"w\", done: false }\n",
      "{ value: \"o\", done: false }\n",
      "{ value: \"r\", done: false }\n",
      "{ value: \"d\", done: false }\n",
      "{ value: \"s\", done: false }\n",
      "{ value: undefined, done: true }\n"
     ]
    }
   ],
   "source": [
    "var str = \"hello\"\n",
    "var words = Array.from(\"words\")\n",
    "console.log(str, words)\n",
    "\n",
    "var it1 = str[Symbol.iterator]();\n",
    "var it2 = words[Symbol.iterator]();\n",
    "\n",
    "console.log(it1.next());\n",
    "console.log(it1.next());\n",
    "console.log(it1.next());\n",
    "console.log(it1.next());\n",
    "console.log(it1.next());\n",
    "console.log(it1.next());\n",
    "\n",
    "console.log(it2.next());\n",
    "console.log(it2.next());\n",
    "console.log(it2.next());\n",
    "console.log(it2.next());\n",
    "console.log(it2.next());\n",
    "console.log(it2.next());"
   ]
  },
  {
   "cell_type": "code",
   "execution_count": 2,
   "metadata": {},
   "outputs": [
    {
     "name": "stdout",
     "output_type": "stream",
     "text": [
      "h\n",
      "e\n",
      "l\n",
      "l\n",
      "o\n",
      "h\n",
      "e\n",
      "l\n",
      "l\n",
      "o\n"
     ]
    }
   ],
   "source": [
    "var str = \"hello\"\n",
    "var it = str[Symbol.iterator]()\n",
    "\n",
    "for(let i of str){\n",
    "    console.log(i)\n",
    "}\n",
    "\n",
    "for(let v of it){\n",
    "    console.log(v)\n",
    "}\n"
   ]
  },
  {
   "cell_type": "code",
   "execution_count": 3,
   "metadata": {},
   "outputs": [
    {
     "name": "stdout",
     "output_type": "stream",
     "text": [
      "[ \"h\", \"e\", \"l\", \"l\", \"o\" ]\n"
     ]
    }
   ],
   "source": [
    "var str = \"hello\"\n",
    "var letters = [...str]\n",
    "console.log(letters);"
   ]
  },
  {
   "cell_type": "markdown",
   "metadata": {},
   "source": [
    "## generators"
   ]
  },
  {
   "cell_type": "code",
   "execution_count": 4,
   "metadata": {},
   "outputs": [
    {
     "name": "stdout",
     "output_type": "stream",
     "text": [
      "[ 0, 1, 2, 3, 4 ]\n"
     ]
    }
   ],
   "source": [
    "function* test() {\n",
    "    for (var i = 0; i < 5; i++) {\n",
    "        yield i\n",
    "    }\n",
    "}\n",
    "\n",
    "var it = test();\n",
    "console.log([...it])"
   ]
  },
  {
   "cell_type": "markdown",
   "metadata": {},
   "source": [
    "## custom iterator"
   ]
  },
  {
   "cell_type": "code",
   "execution_count": 5,
   "metadata": {},
   "outputs": [
    {
     "name": "stdout",
     "output_type": "stream",
     "text": [
      "Object are not iterables :  TypeError: obj is not iterable\n",
      "    at <anonymous>:8:8\n"
     ]
    }
   ],
   "source": [
    "var obj = {\n",
    "    a:1,\n",
    "    b:2,\n",
    "    c:3\n",
    "}\n",
    "\n",
    "try{\n",
    "    console.log([...obj])\n",
    "}\n",
    "catch(err){\n",
    "    console.log(\"Object are not iterables : \",err)\n",
    "}"
   ]
  },
  {
   "cell_type": "code",
   "execution_count": 6,
   "metadata": {},
   "outputs": [
    {
     "name": "stdout",
     "output_type": "stream",
     "text": [
      "[ 1, 2, 3 ]\n"
     ]
    }
   ],
   "source": [
    "var obj = {\n",
    "    a:1,\n",
    "    b:2,\n",
    "    c:3,\n",
    "    *[Symbol.iterator](){\n",
    "        for(let key of Object.keys(this)){\n",
    "            yield(this[key])\n",
    "        }\n",
    "    }\n",
    "}\n",
    "console.log([...obj])"
   ]
  },
  {
   "cell_type": "code",
   "execution_count": null,
   "metadata": {},
   "outputs": [],
   "source": []
  }
 ],
 "metadata": {
  "kernelspec": {
   "display_name": "Deno",
   "language": "typescript",
   "name": "deno"
  },
  "language_info": {
   "file_extension": ".ts",
   "mimetype": "text/x.typescript",
   "name": "typescript",
   "nb_converter": "script",
   "pygments_lexer": "typescript",
   "version": "5.3.3"
  }
 },
 "nbformat": 4,
 "nbformat_minor": 2
}
