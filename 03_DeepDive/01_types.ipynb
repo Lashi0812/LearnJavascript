{
 "cells": [
  {
   "cell_type": "markdown",
   "metadata": {},
   "source": [
    "# Types\n",
    "\n",
    "In Javascript everything is an Objects --> this statement is false.  Because javascript has primitive types\n",
    "\n",
    "## Primitive types\n",
    "1. undefined\n",
    "2. string\n",
    "3. number\n",
    "4. boolean\n",
    "5. object\n",
    "6. symbol\n",
    "7. null\n",
    "8. BigInt\n",
    "\n",
    "## Objects\n",
    "1. functions \n",
    "2. array\n",
    "\n",
    "\n",
    "In Javascript variable doesn't contain the type but `value has type`.`typeof` operator return what is type of value in string format not type of variable"
   ]
  },
  {
   "cell_type": "code",
   "execution_count": 6,
   "metadata": {},
   "outputs": [
    {
     "name": "stdout",
     "output_type": "stream",
     "text": [
      "current value type in x :  undefined\n",
      "current value type in x :  string\n",
      "current value type in x :  number\n",
      "current value type in x :  boolean\n",
      "current value type in x :  object\n",
      "current value type in x :  symbol\n",
      "current value type in x :  object\n",
      "current value type in x :  function\n",
      "current value type in x :  object\n",
      "current value type in x :  bigint\n",
      "current value type in x :  undefined\n"
     ]
    }
   ],
   "source": [
    "let x;\n",
    "console.log(\"current value type in x : \",typeof (x));\n",
    "x = \"1\"\n",
    "console.log(\"current value type in x : \",typeof (x));\n",
    "x = 1\n",
    "console.log(\"current value type in x : \",typeof (x));\n",
    "x = true\n",
    "console.log(\"current value type in x : \",typeof (x));\n",
    "x = {}\n",
    "console.log(\"current value type in x : \",typeof (x));\n",
    "x = Symbol()\n",
    "console.log(\"current value type in x : \",typeof (x));\n",
    "x = null\n",
    "console.log(\"current value type in x : \", typeof (x)); // ! this return object\n",
    "x = function () { };\n",
    "console.log(\"current value type in x : \",typeof (x)); // ! this return function\n",
    "x = [1,2,3]\n",
    "console.log(\"current value type in x : \", typeof (x));\n",
    "x = 42n;\n",
    "console.log(\"current value type in x : \", typeof (x)); // ? this Bigint\n",
    "console.log(\"current value type in x : \", typeof (sdf)); // ! this undefine but this variable not created"
   ]
  },
  {
   "cell_type": "markdown",
   "metadata": {},
   "source": [
    "## Not an Number (Invalid number)\n",
    "\n",
    "1. NaN not equal to itself.ie it does not have identity property"
   ]
  },
  {
   "cell_type": "code",
   "execution_count": 9,
   "metadata": {},
   "outputs": [
    {
     "name": "stdout",
     "output_type": "stream",
     "text": [
      "NaN\n",
      "NaN\n"
     ]
    }
   ],
   "source": [
    "console.log(Number(\"N/A\"))\n",
    "console.log(Number(\"string that cant be represent as number then it is NaN\"))"
   ]
  },
  {
   "cell_type": "code",
   "execution_count": 17,
   "metadata": {},
   "outputs": [
    {
     "name": "stdout",
     "output_type": "stream",
     "text": [
      "20\n",
      "2748\n",
      "20\n"
     ]
    }
   ],
   "source": [
    "console.log(Number(\"0o24\")) //? octal representation\n",
    "console.log(Number(\"0xabc\")) //? hex representation\n",
    "console.log(Number(0o24))"
   ]
  },
  {
   "cell_type": "code",
   "execution_count": 18,
   "metadata": {},
   "outputs": [
    {
     "data": {
      "text/plain": [
       "\u001b[33mfalse\u001b[39m"
      ]
     },
     "execution_count": 18,
     "metadata": {},
     "output_type": "execute_result"
    }
   ],
   "source": [
    "let nan = Number(\"nan\")\n",
    "nan === nan //! return false NaN has no identity property"
   ]
  },
  {
   "cell_type": "code",
   "execution_count": 20,
   "metadata": {},
   "outputs": [],
   "source": [
    "if(!Object.is){\n",
    "    console.log(\"sd\")\n",
    "}"
   ]
  },
  {
   "cell_type": "code",
   "execution_count": 21,
   "metadata": {},
   "outputs": [
    {
     "data": {
      "text/plain": [
       "\u001b[32m\"\"\u001b[39m"
      ]
     },
     "execution_count": 21,
     "metadata": {},
     "output_type": "execute_result"
    }
   ],
   "source": [
    "[].toString()"
   ]
  },
  {
   "cell_type": "code",
   "execution_count": 24,
   "metadata": {},
   "outputs": [
    {
     "data": {
      "text/plain": [
       "\u001b[36m[Function: values]\u001b[39m"
      ]
     },
     "execution_count": 24,
     "metadata": {},
     "output_type": "execute_result"
    }
   ],
   "source": [
    "To"
   ]
  },
  {
   "cell_type": "code",
   "execution_count": null,
   "metadata": {},
   "outputs": [],
   "source": []
  }
 ],
 "metadata": {
  "kernelspec": {
   "display_name": "Deno",
   "language": "typescript",
   "name": "deno"
  },
  "language_info": {
   "file_extension": ".ts",
   "mimetype": "text/x.typescript",
   "name": "typescript",
   "nb_converter": "script",
   "pygments_lexer": "typescript",
   "version": "5.3.3"
  }
 },
 "nbformat": 4,
 "nbformat_minor": 2
}
