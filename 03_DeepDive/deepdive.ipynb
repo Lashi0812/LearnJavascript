{
 "cells": [
  {
   "cell_type": "markdown",
   "metadata": {},
   "source": [
    "# Post Plus Plus Operator\n",
    "\n",
    "[refer specification](https://262.ecma-international.org/13.0/#sec-postfix-increment-operator-runtime-semantics-evaluation)\n",
    "\n",
    "UpdateExpression : LeftHandSideExpression ++\n",
    "1. Let lhs be the result of evaluating LeftHandSideExpression.\n",
    "2. Let oldValue be ? ToNumeric(? GetValue(lhs)).\n",
    "3. If Type(oldValue) is Number, then\n",
    "    1. Let newValue be Number::add(oldValue, 1𝔽).\n",
    "4. Else,\n",
    "    1. Assert: Type(oldValue) is BigInt.\n",
    "    2. Let newValue be BigInt::add(oldValue, 1ℤ).\n",
    "5. Perform ? PutValue(lhs, newValue).\n",
    "6. Return oldValue."
   ]
  },
  {
   "cell_type": "code",
   "execution_count": 5,
   "metadata": {},
   "outputs": [
    {
     "name": "stdout",
     "output_type": "stream",
     "text": [
      "before and type :  5 number\n",
      "return it then eval :  5\n",
      "after and type :  6 number\n"
     ]
    }
   ],
   "source": [
    "let x = 5;\n",
    "console.log(\"before and type : \",x,typeof(x));\n",
    "console.log(\"return it then eval : \",x++);\n",
    "console.log(\"after and type : \",x,typeof(x));\n",
    "\n",
    "// x  = x + 1"
   ]
  },
  {
   "cell_type": "code",
   "execution_count": 6,
   "metadata": {},
   "outputs": [
    {
     "name": "stdout",
     "output_type": "stream",
     "text": [
      "before and type :  5 string\n",
      "return it then eval :  5\n",
      "after and type :  6 number\n"
     ]
    }
   ],
   "source": [
    "//? What happen when we use string\n",
    "let x = \"5\";\n",
    "console.log(\"before and type : \",x,typeof(x));\n",
    "console.log(\"return it then eval : \",x++);\n",
    "console.log(\"after and type : \",x,typeof(x));"
   ]
  },
  {
   "cell_type": "code",
   "execution_count": 9,
   "metadata": {},
   "outputs": [
    {
     "name": "stdout",
     "output_type": "stream",
     "text": [
      "before and type :  5 string\n",
      "after and type :  51 string\n"
     ]
    }
   ],
   "source": [
    "//? but x = x + 1\n",
    "let x = \"5\"\n",
    "console.log(\"before and type : \",x,typeof(x));\n",
    "x = x + 1\n",
    "console.log(\"after and type : \",x,typeof(x));"
   ]
  },
  {
   "cell_type": "code",
   "execution_count": 11,
   "metadata": {},
   "outputs": [
    {
     "name": "stdout",
     "output_type": "stream",
     "text": [
      "Number :  6\n",
      "String :  6\n"
     ]
    }
   ],
   "source": [
    "function plusplus(lhs){\n",
    "    let a = Number(lhs)\n",
    "    a  = a +1\n",
    "    return a\n",
    "}\n",
    "\n",
    "console.log(\"Number : \",plusplus(5))\n",
    "console.log(\"String : \",plusplus(\"5\"))"
   ]
  }
 ],
 "metadata": {
  "kernelspec": {
   "display_name": "Deno",
   "language": "typescript",
   "name": "deno"
  },
  "language_info": {
   "file_extension": ".ts",
   "mimetype": "text/x.typescript",
   "name": "typescript",
   "nb_converter": "script",
   "pygments_lexer": "typescript",
   "version": "5.3.3"
  }
 },
 "nbformat": 4,
 "nbformat_minor": 2
}
