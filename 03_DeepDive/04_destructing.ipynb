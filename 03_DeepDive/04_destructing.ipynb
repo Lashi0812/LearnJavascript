{
 "cells": [
  {
   "cell_type": "code",
   "execution_count": 1,
   "metadata": {},
   "outputs": [
    {
     "name": "stdout",
     "output_type": "stream",
     "text": [
      "1 2 3\n"
     ]
    }
   ],
   "source": [
    "function data() {\n",
    "    return [1, 2, 3];\n",
    "}\n",
    "\n",
    "//? imperative way\n",
    "var temp = data();\n",
    "var first = temp[0];\n",
    "var second = temp[1];\n",
    "var third = temp[2];\n",
    "\n",
    "console.log(first,second,third)\n"
   ]
  },
  {
   "cell_type": "code",
   "execution_count": 2,
   "metadata": {},
   "outputs": [
    {
     "name": "stdout",
     "output_type": "stream",
     "text": [
      "1 2 3\n"
     ]
    }
   ],
   "source": [
    "// ? declarative way\n",
    "var [first,second,third] = data();\n",
    "console.log(first,second,third)"
   ]
  },
  {
   "cell_type": "markdown",
   "metadata": {},
   "source": [
    "## With default"
   ]
  },
  {
   "cell_type": "code",
   "execution_count": 3,
   "metadata": {},
   "outputs": [
    {
     "name": "stdout",
     "output_type": "stream",
     "text": [
      "1 10 3\n",
      "1 10 3\n"
     ]
    }
   ],
   "source": [
    "function data2() {\n",
    "    return [1, undefined, 3];\n",
    "}\n",
    "\n",
    "//? imperative way\n",
    "var temp = data2();\n",
    "var first = temp[0];\n",
    "var second = temp[1] !== undefined ? temp[1] : 10;\n",
    "var third = temp[2];\n",
    "\n",
    "console.log(first,second,third)\n",
    "\n",
    "// ? declarative way\n",
    "var [first,second=10,third] = data2();\n",
    "console.log(first,second,third)"
   ]
  },
  {
   "cell_type": "markdown",
   "metadata": {},
   "source": [
    "## Gather notion"
   ]
  },
  {
   "cell_type": "code",
   "execution_count": 4,
   "metadata": {},
   "outputs": [
    {
     "name": "stdout",
     "output_type": "stream",
     "text": [
      "1 2 3 [ 4, 5 ]\n",
      "1 2 3 [ 4, 5 ]\n"
     ]
    }
   ],
   "source": [
    "function data3() {\n",
    "    return [1, 2, 3,4,5];\n",
    "}\n",
    "\n",
    "//? imperative way\n",
    "var temp = data3();\n",
    "var first = temp[0];\n",
    "var second = temp[1] !== undefined ? temp[1] : 10;\n",
    "var third = temp[2];\n",
    "var fourth = temp.slice(3)\n",
    "\n",
    "console.log(first,second,third,fourth)\n",
    "\n",
    "// ? declarative way\n",
    "var [first,\n",
    "    second=10,\n",
    "    third,\n",
    "    ...fourth\n",
    "] = data3();\n",
    "console.log(first,second,third,fourth)"
   ]
  },
  {
   "cell_type": "markdown",
   "metadata": {},
   "source": [
    "## Empty position"
   ]
  },
  {
   "cell_type": "code",
   "execution_count": 5,
   "metadata": {},
   "outputs": [
    {
     "name": "stdout",
     "output_type": "stream",
     "text": [
      "1 3 [ 4, 5 ]\n",
      "1 3 [ 4, 5 ]\n"
     ]
    }
   ],
   "source": [
    "function data4() {\n",
    "    return [1, 2, 3,4,5];\n",
    "}\n",
    "\n",
    "//? imperative way\n",
    "var temp = data3();\n",
    "var first = temp[0];\n",
    "// var second = temp[1];\n",
    "var third = temp[2];\n",
    "var fourth = temp.slice(3)\n",
    "\n",
    "console.log(first,third,fourth)\n",
    "\n",
    "// ? declarative way\n",
    "var [first,\n",
    "    ,\n",
    "    third,\n",
    "    ...fourth\n",
    "] = data4();\n",
    "console.log(first,third,fourth)"
   ]
  },
  {
   "cell_type": "markdown",
   "metadata": {},
   "source": [
    "## swap"
   ]
  },
  {
   "cell_type": "code",
   "execution_count": 6,
   "metadata": {},
   "outputs": [
    {
     "name": "stdout",
     "output_type": "stream",
     "text": [
      "20 10\n"
     ]
    }
   ],
   "source": [
    "var x = 10;\n",
    "var y = 20;\n",
    "\n",
    "[y,x] = [x,y]\n",
    "console.log(x,y)"
   ]
  },
  {
   "cell_type": "markdown",
   "metadata": {},
   "source": [
    "## destructing in parameter position"
   ]
  },
  {
   "cell_type": "code",
   "execution_count": 7,
   "metadata": {},
   "outputs": [],
   "source": [
    "function data5(temp){\n",
    "    var [first,second,third] = temp;\n",
    "    console.log(first,second,third);\n",
    "}"
   ]
  },
  {
   "cell_type": "code",
   "execution_count": 8,
   "metadata": {},
   "outputs": [
    {
     "name": "stdout",
     "output_type": "stream",
     "text": [
      "1 2 3\n"
     ]
    }
   ],
   "source": [
    "data5(data())"
   ]
  },
  {
   "cell_type": "code",
   "execution_count": 10,
   "metadata": {},
   "outputs": [
    {
     "name": "stdout",
     "output_type": "stream",
     "text": [
      "1 2 3\n"
     ]
    }
   ],
   "source": [
    "function data6([first,second,third] =  []){\n",
    "    console.log(first,second,third);\n",
    "}\n",
    "\n",
    "data6(data())"
   ]
  },
  {
   "cell_type": "markdown",
   "metadata": {},
   "source": [
    "## destructing the nested array"
   ]
  },
  {
   "cell_type": "code",
   "execution_count": 13,
   "metadata": {},
   "outputs": [
    {
     "name": "stdout",
     "output_type": "stream",
     "text": [
      "1 2 3 4\n",
      "1 2 3 4\n"
     ]
    }
   ],
   "source": [
    "function data7(){\n",
    "    return [1,[2,3],4]\n",
    "}\n",
    "\n",
    "var tmp = data7() || [];\n",
    "var first = tmp[0];\n",
    "var tmp2 = tmp[1]\n",
    "var second = tmp2[0]\n",
    "var third = tmp2[1]\n",
    "var fourth = tmp[2]\n",
    "\n",
    "console.log(first,second,third,fourth)\n",
    "\n",
    "var [\n",
    "    first,\n",
    "    [\n",
    "        second,\n",
    "        third\n",
    "    ] = [],\n",
    "    fourth\n",
    "] = data7();\n",
    "console.log(first,second,third,fourth)"
   ]
  },
  {
   "cell_type": "markdown",
   "metadata": {},
   "source": [
    "## destructing the object"
   ]
  },
  {
   "cell_type": "code",
   "execution_count": 14,
   "metadata": {},
   "outputs": [
    {
     "name": "stdout",
     "output_type": "stream",
     "text": [
      "1 2 3\n"
     ]
    }
   ],
   "source": [
    "function data8(){\n",
    "    return {a:1,b:2,c:3}\n",
    "}\n",
    "\n",
    "var {\n",
    "    b:second,\n",
    "    a:first,\n",
    "    c:third\n",
    "} = data8()\n",
    "\n",
    "console.log(first,second,third)"
   ]
  },
  {
   "cell_type": "markdown",
   "metadata": {},
   "source": [
    "## destructing the object with gather"
   ]
  },
  {
   "cell_type": "code",
   "execution_count": 15,
   "metadata": {},
   "outputs": [
    {
     "name": "stdout",
     "output_type": "stream",
     "text": [
      "1 2 { c: 3, d: 4 }\n"
     ]
    }
   ],
   "source": [
    "function data9(){\n",
    "    return {a:1,b:2,c:3,d:4}\n",
    "}\n",
    "\n",
    "var {\n",
    "    b:second,\n",
    "    a:first,\n",
    "    ...third\n",
    "} = data9()\n",
    "\n",
    "console.log(first,second,third)"
   ]
  },
  {
   "cell_type": "code",
   "execution_count": null,
   "metadata": {},
   "outputs": [],
   "source": []
  }
 ],
 "metadata": {
  "kernelspec": {
   "display_name": "Deno",
   "language": "typescript",
   "name": "deno"
  },
  "language_info": {
   "file_extension": ".ts",
   "mimetype": "text/x.typescript",
   "name": "typescript",
   "nb_converter": "script",
   "pygments_lexer": "typescript",
   "version": "5.3.3"
  }
 },
 "nbformat": 4,
 "nbformat_minor": 2
}
