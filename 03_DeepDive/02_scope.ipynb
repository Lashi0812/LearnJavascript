{
 "cells": [
  {
   "cell_type": "markdown",
   "metadata": {},
   "source": [
    "# Function scope"
   ]
  },
  {
   "cell_type": "code",
   "execution_count": 1,
   "metadata": {},
   "outputs": [
    {
     "name": "stdout",
     "output_type": "stream",
     "text": [
      "assign1\n"
     ]
    }
   ],
   "source": [
    "var name1 = \"assign1\"\n",
    "console.log(name1)"
   ]
  },
  {
   "cell_type": "code",
   "execution_count": 2,
   "metadata": {},
   "outputs": [
    {
     "name": "stdout",
     "output_type": "stream",
     "text": [
      "assign2\n"
     ]
    }
   ],
   "source": [
    "var name1 = \"assign1\"\n",
    "var name1 = \"assign2\"  // we override the name1 this may not we wanted\n",
    "console.log(name1)"
   ]
  },
  {
   "cell_type": "code",
   "execution_count": 3,
   "metadata": {},
   "outputs": [],
   "source": [
    "var isVarInGlobalScope =  function(fn_name){\n",
    "    var test = window.hasOwnProperty(fn_name) ? \"\" : \" not\";\n",
    "    return console.log(`${fn_name}${test} in the global scope`)\n",
    "}"
   ]
  },
  {
   "cell_type": "code",
   "execution_count": 4,
   "metadata": {},
   "outputs": [
    {
     "name": "stdout",
     "output_type": "stream",
     "text": [
      "assign2\n",
      "assign1\n",
      "anotherName2 in the global scope\n"
     ]
    }
   ],
   "source": [
    "var name2 = \"assign1\";\n",
    "function anotherName2(){                // ? function declaration\n",
    "    var name2 = \"assign2\"\n",
    "    console.log(name2)\n",
    "}\n",
    "anotherName2()\n",
    "console.log(name2)\n",
    "isVarInGlobalScope(\"anotherName2\");\n",
    "// this also us to use the same variable name .\n",
    "// ? we may think we solved the problem \n",
    "// ? but we shifted the problem to another name"
   ]
  },
  {
   "cell_type": "code",
   "execution_count": 5,
   "metadata": {},
   "outputs": [
    {
     "name": "stdout",
     "output_type": "stream",
     "text": [
      "assign2\n",
      "assign1\n",
      "anotherName3 in the global scope\n"
     ]
    }
   ],
   "source": [
    "var name3 = \"assign1\";\n",
    "function anotherName3(){\n",
    "    var name3 = \"assign2\"\n",
    "    console.log(name3)\n",
    "};\n",
    "(anotherName3)();\n",
    "console.log(name3)\n",
    "isVarInGlobalScope(\"anotherName3\");"
   ]
  },
  {
   "cell_type": "code",
   "execution_count": 6,
   "metadata": {},
   "outputs": [
    {
     "name": "stdout",
     "output_type": "stream",
     "text": [
      "assign2\n",
      "assign1\n",
      "anotherName4 not in the global scope\n"
     ]
    }
   ],
   "source": [
    "var name4 = \"assign1\";\n",
    "(function anotherName4(){   //? fn expression\n",
    "    var name4 = \"assign2\"\n",
    "    console.log(name4)\n",
    "})();                       //? immediate invoke fn expression IIFE\n",
    "console.log(name4);\n",
    "isVarInGlobalScope(\"anotherName4\")"
   ]
  },
  {
   "cell_type": "markdown",
   "metadata": {},
   "source": [
    "# block scope"
   ]
  },
  {
   "cell_type": "code",
   "execution_count": 1,
   "metadata": {},
   "outputs": [],
   "source": [
    "var isVarInGlobalScope =  function(fn_name){\n",
    "    var test = window.hasOwnProperty(fn_name) ? \"\" : \" not\";\n",
    "    return console.log(`${fn_name}${test} in the global scope`)\n",
    "}"
   ]
  },
  {
   "cell_type": "code",
   "execution_count": 2,
   "metadata": {},
   "outputs": [
    {
     "name": "stdout",
     "output_type": "stream",
     "text": [
      "assign2\n",
      "assign1\n"
     ]
    }
   ],
   "source": [
    "var name1 = \"assign1\"\n",
    "{\n",
    "    let name1 = \"assign2\"\n",
    "    console.log(name1)\n",
    "}\n",
    "console.log(name1)"
   ]
  },
  {
   "cell_type": "code",
   "execution_count": 3,
   "metadata": {},
   "outputs": [
    {
     "name": "stdout",
     "output_type": "stream",
     "text": [
      "assign3\n",
      "assign2\n",
      "name3 not in the global scope\n"
     ]
    }
   ],
   "source": [
    "var name2 = \"assign2\"\n",
    "{\n",
    "    let name3 = \"assign3\"\n",
    "    console.log(name3)\n",
    "}\n",
    "console.log(name2)\n",
    "isVarInGlobalScope(\"name3\")"
   ]
  },
  {
   "cell_type": "code",
   "execution_count": 4,
   "metadata": {},
   "outputs": [
    {
     "name": "stdout",
     "output_type": "stream",
     "text": [
      "assign5\n",
      "assign4\n",
      "name5 in the global scope\n"
     ]
    }
   ],
   "source": [
    "var name4 = \"assign4\"\n",
    "{\n",
    "    var name5 = \"assign5\"\n",
    "    console.log(name5)\n",
    "}\n",
    "console.log(name4)\n",
    "isVarInGlobalScope(\"name5\")"
   ]
  },
  {
   "cell_type": "code",
   "execution_count": 5,
   "metadata": {},
   "outputs": [
    {
     "name": "stdout",
     "output_type": "stream",
     "text": [
      "assign7\n",
      "assign8\n",
      "assign6\n",
      "name7 in the global scope\n",
      "name8 in the global scope\n"
     ]
    }
   ],
   "source": [
    "var name6 = \"assign6\"\n",
    "{\n",
    "    var name7 = \"assign7\"\n",
    "    console.log(name7)\n",
    "    {\n",
    "        var name8 = \"assign8\"\n",
    "        console.log(name8) \n",
    "    }\n",
    "}\n",
    "console.log(name6)\n",
    "isVarInGlobalScope(\"name7\")\n",
    "isVarInGlobalScope(\"name8\")"
   ]
  },
  {
   "cell_type": "code",
   "execution_count": 6,
   "metadata": {},
   "outputs": [
    {
     "name": "stdout",
     "output_type": "stream",
     "text": [
      "assign10\n",
      "assign11\n",
      "assign9\n",
      "name10 not in the global scope\n",
      "name11 not in the global scope\n"
     ]
    }
   ],
   "source": [
    "var name9 = \"assign9\"\n",
    "{\n",
    "    let name10 = \"assign10\"\n",
    "    console.log(name10)\n",
    "    {\n",
    "        let name11 = \"assign11\"\n",
    "        console.log(name11) \n",
    "    }\n",
    "}\n",
    "console.log(name9)\n",
    "isVarInGlobalScope(\"name10\")\n",
    "isVarInGlobalScope(\"name11\")"
   ]
  },
  {
   "cell_type": "code",
   "execution_count": 7,
   "metadata": {},
   "outputs": [
    {
     "name": "stdout",
     "output_type": "stream",
     "text": [
      "assign13\n",
      "assign14\n",
      "assign12\n",
      "name13 not in the global scope\n",
      "name14 in the global scope\n"
     ]
    }
   ],
   "source": [
    "var name12 = \"assign12\"\n",
    "{\n",
    "    let name13 = \"assign13\"\n",
    "    console.log(name13)\n",
    "    {\n",
    "        var name14 = \"assign14\"\n",
    "        console.log(name14) \n",
    "    }\n",
    "}\n",
    "console.log(name12)\n",
    "isVarInGlobalScope(\"name13\")\n",
    "isVarInGlobalScope(\"name14\")"
   ]
  },
  {
   "cell_type": "code",
   "execution_count": null,
   "metadata": {},
   "outputs": [],
   "source": []
  }
 ],
 "metadata": {
  "kernelspec": {
   "display_name": "Deno",
   "language": "typescript",
   "name": "deno"
  },
  "language_info": {
   "file_extension": ".ts",
   "mimetype": "text/x.typescript",
   "name": "typescript",
   "nb_converter": "script",
   "pygments_lexer": "typescript",
   "version": "5.3.3"
  }
 },
 "nbformat": 4,
 "nbformat_minor": 2
}
