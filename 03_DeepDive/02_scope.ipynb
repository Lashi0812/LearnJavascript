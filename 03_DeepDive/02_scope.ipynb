{
 "cells": [
  {
   "cell_type": "markdown",
   "metadata": {},
   "source": [
    "# Function scope"
   ]
  },
  {
   "cell_type": "code",
   "execution_count": 1,
   "metadata": {},
   "outputs": [
    {
     "name": "stdout",
     "output_type": "stream",
     "text": [
      "assign1\n"
     ]
    }
   ],
   "source": [
    "var name1 = \"assign1\"\n",
    "console.log(name1)"
   ]
  },
  {
   "cell_type": "code",
   "execution_count": 2,
   "metadata": {},
   "outputs": [
    {
     "name": "stdout",
     "output_type": "stream",
     "text": [
      "assign2\n"
     ]
    }
   ],
   "source": [
    "var name1 = \"assign1\"\n",
    "var name1 = \"assign2\"  // we override the name1 this may not we wanted\n",
    "console.log(name1)"
   ]
  },
  {
   "cell_type": "code",
   "execution_count": 18,
   "metadata": {},
   "outputs": [],
   "source": [
    "var isVarInGlobalScope =  function(fn_name){\n",
    "    var test = window.hasOwnProperty(fn_name) ? \"\" : \" not\";\n",
    "    return console.log(`${fn_name}${test} in the global scope`)\n",
    "}"
   ]
  },
  {
   "cell_type": "code",
   "execution_count": 20,
   "metadata": {},
   "outputs": [
    {
     "name": "stdout",
     "output_type": "stream",
     "text": [
      "assign1\n",
      "assign1\n",
      "anotherName2 in the global scope\n"
     ]
    }
   ],
   "source": [
    "var name2 = \"assign1\";\n",
    "function anotherName2(){                // ? function declaration\n",
    "    var name2 = \"assign1\"\n",
    "    console.log(name2)\n",
    "}\n",
    "anotherName2()\n",
    "console.log(name2)\n",
    "isVarInGlobalScope(\"anotherName2\");\n",
    "// this also us to use the same variable name .\n",
    "// ? we may think we solved the problem \n",
    "// ? but we shifted the problem to another name"
   ]
  },
  {
   "cell_type": "code",
   "execution_count": 21,
   "metadata": {},
   "outputs": [
    {
     "name": "stdout",
     "output_type": "stream",
     "text": [
      "assign1\n",
      "assign1\n",
      "anotherName3 in the global scope\n"
     ]
    }
   ],
   "source": [
    "var name3 = \"assign1\";\n",
    "function anotherName3(){\n",
    "    var name3 = \"assign1\"\n",
    "    console.log(name3)\n",
    "};\n",
    "(anotherName3)();\n",
    "console.log(name3)\n",
    "isVarInGlobalScope(\"anotherName3\");"
   ]
  },
  {
   "cell_type": "code",
   "execution_count": 22,
   "metadata": {},
   "outputs": [
    {
     "name": "stdout",
     "output_type": "stream",
     "text": [
      "assign1\n",
      "assign1\n",
      "anotherName4 not in the global scope\n"
     ]
    }
   ],
   "source": [
    "var name4 = \"assign1\";\n",
    "(function anotherName4(){   //? fn expression\n",
    "    var name4 = \"assign1\"\n",
    "    console.log(name4)\n",
    "})();                       //? immediate invoke fn expression IIFE\n",
    "console.log(name4);\n",
    "isVarInGlobalScope(\"anotherName4\")"
   ]
  },
  {
   "cell_type": "code",
   "execution_count": null,
   "metadata": {},
   "outputs": [],
   "source": []
  }
 ],
 "metadata": {
  "kernelspec": {
   "display_name": "Deno",
   "language": "typescript",
   "name": "deno"
  },
  "language_info": {
   "file_extension": ".ts",
   "mimetype": "text/x.typescript",
   "name": "typescript",
   "nb_converter": "script",
   "pygments_lexer": "typescript",
   "version": "5.3.3"
  }
 },
 "nbformat": 4,
 "nbformat_minor": 2
}
