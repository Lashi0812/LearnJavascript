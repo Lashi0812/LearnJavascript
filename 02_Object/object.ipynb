{
 "cells": [
  {
   "cell_type": "markdown",
   "metadata": {},
   "source": [
    "# OOPs concept using function"
   ]
  },
  {
   "cell_type": "markdown",
   "metadata": {},
   "source": [
    "## Generate object using function"
   ]
  },
  {
   "cell_type": "code",
   "execution_count": 2,
   "metadata": {},
   "outputs": [],
   "source": [
    "function userCreation(name,score){\n",
    "    const newUser = {};\n",
    "    newUser.name = name;\n",
    "    newUser.score = score;\n",
    "    newUser.increment = function () {newUser.score++;}\n",
    "    return newUser;\n",
    "}"
   ]
  },
  {
   "cell_type": "code",
   "execution_count": 3,
   "metadata": {},
   "outputs": [
    {
     "name": "stdout",
     "output_type": "stream",
     "text": [
      "{ name: \"A\", score: 3, increment: [Function (anonymous)] }\n",
      "{ name: \"B\", score: 4, increment: [Function (anonymous)] }\n"
     ]
    }
   ],
   "source": [
    "const user1 = userCreation(\"A\",3);\n",
    "const user2 = userCreation(\"B\",4);\n",
    "\n",
    "console.log(user1);\n",
    "console.log(user2);\n"
   ]
  },
  {
   "cell_type": "code",
   "execution_count": 4,
   "metadata": {},
   "outputs": [
    {
     "name": "stdout",
     "output_type": "stream",
     "text": [
      "{ name: \"A\", score: 4, increment: [Function (anonymous)] }\n",
      "{ name: \"B\", score: 5, increment: [Function (anonymous)] }\n"
     ]
    }
   ],
   "source": [
    "user1.increment();\n",
    "user2.increment();\n",
    "\n",
    "console.log(user1);\n",
    "console.log(user2);"
   ]
  },
  {
   "cell_type": "markdown",
   "metadata": {},
   "source": [
    "1. Each time we create a new user we make space in our computer's memory for all our data and functions. But our functions are just copies\n",
    "2. Instead of creating copies , why just we refer the function object."
   ]
  },
  {
   "cell_type": "markdown",
   "metadata": {},
   "source": [
    "## Using the prototype chain"
   ]
  },
  {
   "cell_type": "code",
   "execution_count": 5,
   "metadata": {},
   "outputs": [],
   "source": [
    "const userFunctionStore = {\n",
    "    increment : function (){this.score++;}\n",
    "};\n",
    "\n",
    "function userCreation(name,score){\n",
    "    const newUser = Object.create(userFunctionStore);\n",
    "    newUser.name = name;\n",
    "    newUser.score = score;\n",
    "    return newUser;\n",
    "}"
   ]
  },
  {
   "cell_type": "code",
   "execution_count": 6,
   "metadata": {},
   "outputs": [
    {
     "name": "stdout",
     "output_type": "stream",
     "text": [
      "{ name: \"A\", score: 3 }\n",
      "{ name: \"B\", score: 4 }\n"
     ]
    }
   ],
   "source": [
    "const user1 = userCreation(\"A\",3);\n",
    "const user2 = userCreation(\"B\",4);\n",
    "\n",
    "console.log(user1);\n",
    "console.log(user2);\n"
   ]
  },
  {
   "cell_type": "code",
   "execution_count": 7,
   "metadata": {},
   "outputs": [
    {
     "name": "stdout",
     "output_type": "stream",
     "text": [
      "{ name: \"A\", score: 4 }\n",
      "{ name: \"B\", score: 5 }\n"
     ]
    }
   ],
   "source": [
    "user1.increment();\n",
    "user2.increment();\n",
    "\n",
    "console.log(user1);\n",
    "console.log(user2);"
   ]
  },
  {
   "cell_type": "markdown",
   "metadata": {},
   "source": [
    "1. user object does not hold the `increment` property in them , then how user can access the increment functions .\n",
    "2. Increment function stored in the `__proto__` property of every user object.\n",
    "\n",
    "> How increment function stored in the __proto__ property ?\n",
    ">\n",
    "> we can tell java script to store object in the __proto__ property via `Object.create()`\n",
    "\n",
    "> Why increment function stored in the __proto__ property ?\n",
    ">\n",
    "> Because we can inherit the property via __proto__.So we wont create the function copies in all user object."
   ]
  },
  {
   "cell_type": "code",
   "execution_count": 12,
   "metadata": {},
   "outputs": [
    {
     "name": "stdout",
     "output_type": "stream",
     "text": [
      "{ increment: [Function: increment] }\n",
      "{ increment: [Function: increment] }\n"
     ]
    }
   ],
   "source": [
    "console.log(Object.getPrototypeOf(user1))\n",
    "console.log(Object.getPrototypeOf(user2))"
   ]
  },
  {
   "cell_type": "markdown",
   "metadata": {},
   "source": [
    "## Using new keyword to automate the most of work\n",
    "\n",
    "1. Object creation\n",
    "2. Linking the proto\n",
    "3. return the object"
   ]
  },
  {
   "cell_type": "code",
   "execution_count": 15,
   "metadata": {},
   "outputs": [
    {
     "name": "stdout",
     "output_type": "stream",
     "text": [
      "UserCreation { name: \"A\", score: 3 }\n",
      "UserCreation { name: \"B\", score: 4 }\n"
     ]
    }
   ],
   "source": [
    "function UserCreation(name,score){\n",
    "    this.name = name;\n",
    "    this.score = score;\n",
    "}\n",
    "\n",
    "UserCreation.prototype.increment = function () {this.score++;};\n",
    "\n",
    "\n",
    "const user1 = new UserCreation(\"A\",3);\n",
    "const user2 = new UserCreation(\"B\",4);\n",
    "\n",
    "console.log(user1);\n",
    "console.log(user2);"
   ]
  },
  {
   "cell_type": "code",
   "execution_count": 16,
   "metadata": {},
   "outputs": [
    {
     "name": "stdout",
     "output_type": "stream",
     "text": [
      "UserCreation { name: \"A\", score: 4 }\n",
      "UserCreation { name: \"B\", score: 5 }\n"
     ]
    }
   ],
   "source": [
    "user1.increment();\n",
    "user2.increment();\n",
    "\n",
    "console.log(user1);\n",
    "console.log(user2);"
   ]
  },
  {
   "cell_type": "markdown",
   "metadata": {},
   "source": [
    "Since function is object + fn ---> \n",
    "1. we can have the fn part .. this access by the `()`\n",
    "2. we can have the object part .. this access by `.`\n",
    "\n",
    "\n",
    "we can use the `prototype` object in the function --> to store the shared function or property.\n",
    "When we use the `new` keyword to create object , it automatically put the `prototype` object in the function into user `__proto__` object.\n",
    "\n",
    "But this have the property and  method in different place. to avoid this we can use the class keyword."
   ]
  },
  {
   "cell_type": "code",
   "execution_count": 18,
   "metadata": {},
   "outputs": [
    {
     "data": {
      "text/plain": [
       "{ increment: \u001b[36m[Function (anonymous)]\u001b[39m }"
      ]
     },
     "execution_count": 18,
     "metadata": {},
     "output_type": "execute_result"
    }
   ],
   "source": [
    "UserCreation.prototype"
   ]
  },
  {
   "cell_type": "code",
   "execution_count": 19,
   "metadata": {},
   "outputs": [
    {
     "name": "stdout",
     "output_type": "stream",
     "text": [
      "{ increment: [Function (anonymous)] }\n",
      "{ increment: [Function (anonymous)] }\n"
     ]
    }
   ],
   "source": [
    "console.log(Object.getPrototypeOf(user1))\n",
    "console.log(Object.getPrototypeOf(user2))"
   ]
  },
  {
   "cell_type": "markdown",
   "metadata": {},
   "source": [
    "## using the class keyword"
   ]
  },
  {
   "cell_type": "code",
   "execution_count": 20,
   "metadata": {},
   "outputs": [
    {
     "name": "stdout",
     "output_type": "stream",
     "text": [
      "UserCreation1 { name: \"A\", score: 3 }\n",
      "UserCreation1 { name: \"B\", score: 4 }\n"
     ]
    }
   ],
   "source": [
    "class UserCreation1{\n",
    "    constructor (name,score){\n",
    "        this.name = name;\n",
    "        this.score = score;\n",
    "    }\n",
    "    increment() {this.score++;}\n",
    "}\n",
    "\n",
    "const user1 = new UserCreation1(\"A\",3);\n",
    "const user2 = new UserCreation1(\"B\",4);\n",
    "\n",
    "console.log(user1);\n",
    "console.log(user2);"
   ]
  },
  {
   "cell_type": "code",
   "execution_count": 21,
   "metadata": {},
   "outputs": [
    {
     "name": "stdout",
     "output_type": "stream",
     "text": [
      "UserCreation1 { name: \"A\", score: 4 }\n",
      "UserCreation1 { name: \"B\", score: 5 }\n"
     ]
    }
   ],
   "source": [
    "user1.increment();\n",
    "user2.increment();\n",
    "\n",
    "console.log(user1);\n",
    "console.log(user2);"
   ]
  },
  {
   "cell_type": "code",
   "execution_count": 33,
   "metadata": {},
   "outputs": [
    {
     "data": {
      "text/plain": [
       "[ \u001b[32m\"constructor\"\u001b[39m, \u001b[32m\"increment\"\u001b[39m ]"
      ]
     },
     "execution_count": 33,
     "metadata": {},
     "output_type": "execute_result"
    }
   ],
   "source": [
    "Object.getOwnPropertyNames(UserCreation1.prototype)"
   ]
  },
  {
   "cell_type": "markdown",
   "metadata": {},
   "source": [
    "1. class nothing but the syntactic sugar . it just do same thing as we done in Using new and Prototype Chain\n",
    "2. constructor hold the property ."
   ]
  },
  {
   "cell_type": "markdown",
   "metadata": {},
   "source": [
    "# Practices"
   ]
  },
  {
   "cell_type": "markdown",
   "metadata": {},
   "source": [
    "## Working with Object Literals\n",
    "\n",
    "Create a function that has two parameters (name and age) and returns an object. Let's call this function makePerson. This function will:\n",
    "1. Create an empty object\n",
    "2. Add a name property to the newly created object with its value being the 'name' argument passed into the function\n",
    "3. Add an age property to the newly created object with its value being the 'age' argument passed into the function\n",
    "4. Return the object\n",
    "\n"
   ]
  },
  {
   "cell_type": "code",
   "execution_count": 35,
   "metadata": {},
   "outputs": [
    {
     "name": "stdout",
     "output_type": "stream",
     "text": [
      "Vicky\n",
      "24\n"
     ]
    }
   ],
   "source": [
    "function makePerson(name, age) {\n",
    "    // add code here\n",
    "    return { name: name, age: age };\n",
    "\n",
    "}\n",
    "const vicky = makePerson('Vicky', 24);\n",
    "\n",
    "console.log(vicky.name); // -> Logs 'Vicky'\n",
    "console.log(vicky.age); // -> Logs 24\n"
   ]
  },
  {
   "cell_type": "markdown",
   "metadata": {},
   "source": [
    "## Using Object.create\n",
    "Challenge 2\n",
    "\n",
    "Inside personStore object, create a property greet where the value is a function that logs \"hello\".\n",
    "\n",
    "Challenge 3\n",
    "\n",
    "Create a function personFromPersonStore that takes as input a name and an age. When called, the function will create person objects using the Object.create method on the personStore object.\n",
    "\n",
    "Challenge 4\n",
    "\n",
    "Without editing the code you've already written, add an introduce method to the personStore object that logs \"Hi, my name is [name]\". "
   ]
  },
  {
   "cell_type": "code",
   "execution_count": 40,
   "metadata": {},
   "outputs": [
    {
     "name": "stdout",
     "output_type": "stream",
     "text": [
      "Sandra\n",
      "26\n",
      "hello\n",
      "Hi, my name is Sandra\n"
     ]
    }
   ],
   "source": [
    "\n",
    "/*** CHALLENGE 2 ***/\n",
    "\n",
    "const personStore = {\n",
    "    // add code here\n",
    "    greet: function () {\n",
    "        console.log(\"hello\");\n",
    "    }\n",
    "};\n",
    "\n",
    "// /********* Uncomment this line to test your work! *********/\n",
    "// personStore.greet(); // -> Logs 'hello'\n",
    "\n",
    "\n",
    "\n",
    "/*** CHALLENGE 3 ***/\n",
    "\n",
    "function personFromPersonStore(name, age) {\n",
    "    const person = Object.create(personStore);\n",
    "    person.name = name;\n",
    "    person.age = age;\n",
    "    return person;\n",
    "}\n",
    "\n",
    "const sandra = personFromPersonStore('Sandra', 26);\n",
    "\n",
    "\n",
    "// /********* Uncomment these lines to test your work! *********/\n",
    "console.log(sandra.name); // -> Logs 'Sandra'\n",
    "console.log(sandra.age); //-> Logs 26\n",
    "sandra.greet(); //-> Logs 'hello'\n",
    "\n",
    "\n",
    "\n",
    "/*** CHALLENGE 4 ***/\n",
    "\n",
    "// add code here\n",
    "personStore.introduce = function(){\n",
    "    console.log(`Hi, my name is ${this.name}`);\n",
    "}\n",
    "sandra.introduce(); // -> Logs 'Hi, my name is Sandra'"
   ]
  },
  {
   "cell_type": "markdown",
   "metadata": {},
   "source": [
    "## Using the NEW keyword\n",
    "Challenge 5\n",
    "\n",
    "Create a function PersonConstructor that uses the this keyword to save a single property onto its scope called greet. greet should be a function that logs the string 'hello'.\n",
    "\n",
    "Challenge 6\n",
    "\n",
    "Create a function personFromConstructor that takes as input a name and an age. When called, the function will create person objects using the new keyword instead of the Object.create method.\n",
    "\n",
    "Challenge 7\n",
    "\n",
    "Without editing the code you've already written, add an introduce method to the PersonConstructor function that logs \"Hi, my name is [name]\". "
   ]
  },
  {
   "cell_type": "code",
   "execution_count": 45,
   "metadata": {},
   "outputs": [
    {
     "name": "stdout",
     "output_type": "stream",
     "text": [
      "Mike\n",
      "30\n",
      "hello\n",
      "Hi, my name is Mike\n"
     ]
    }
   ],
   "source": [
    "/*** CHALLENGE 5 ***/\n",
    "\n",
    "function PersonConstructor() {\n",
    "\t// add code here\n",
    "\tthis.greet = function () {\n",
    "\t\tconsole.log(\"hello\");\n",
    "\t}\n",
    "}\n",
    "\n",
    "\n",
    "\n",
    "// /********* Uncomment this line to test your work! *********/\n",
    "const simon = new PersonConstructor;\n",
    "// simon.greet(); // -> Logs 'hello'\n",
    "\n",
    "\n",
    "\n",
    "/*** CHALLENGE 6 ***/\n",
    "\n",
    "function personFromConstructor(name, age) {\n",
    "\t// add code here\n",
    "\tconst person = new PersonConstructor;\n",
    "\tperson.name = name;\n",
    "\tperson.age = age;\n",
    "\treturn person;\n",
    "}\n",
    "\n",
    "const mike = personFromConstructor('Mike', 30);\n",
    "\n",
    "\n",
    "// /********* Uncomment these lines to test your work! *********/\n",
    "console.log(mike.name); // -> Logs 'Mike'\n",
    "console.log(mike.age); //-> Logs 30\n",
    "mike.greet(); //-> Logs 'hello'\n",
    "\n",
    "\n",
    "\n",
    "/*** CHALLENGE 7 ***/\n",
    "// add code here\n",
    "PersonConstructor.prototype.introduce = function () {\n",
    "\tconsole.log(`Hi, my name is ${this.name}`);\n",
    "}\n",
    "\n",
    "mike.introduce(); // -> Logs 'Hi, my name is Mike'"
   ]
  },
  {
   "cell_type": "markdown",
   "metadata": {},
   "source": [
    "## Using ES6 Classes\n",
    "\n",
    "Challenge 8\n",
    "\n",
    "Create a class PersonClass. PersonClass should have a constructor that is passed an input of name and saves it to a property by the same name. PersonClass should also have a method called greet that logs the string 'hello'.\n",
    "\n",
    "Challenge 9\n",
    "\n",
    "Create a class DeveloperClass that creates objects by extending the PersonClass class. In addition to having a name property and greet method, DeveloperClass should have an introduce method. When called, introduce should log the string 'Hello World, my name is [name]'. \n"
   ]
  },
  {
   "cell_type": "code",
   "execution_count": 47,
   "metadata": {},
   "outputs": [
    {
     "name": "stdout",
     "output_type": "stream",
     "text": [
      "Thai\n",
      "Hello World, my name is Thai\n"
     ]
    }
   ],
   "source": [
    "/*** CHALLENGE 8 ***/\n",
    "\n",
    "class PersonClass {\n",
    "    constructor(name) {\n",
    "        // add code here\n",
    "        this.name = name;\n",
    "    }\n",
    "    // add code here\n",
    "    greet() { console.log(\"hello\"); }\n",
    "\n",
    "}\n",
    "\n",
    "\n",
    "// /********* Uncomment this line to test your work! *********/\n",
    "const george = new PersonClass(\"dummy\");\n",
    "// george.greet(); // -> Logs 'hello'\n",
    "\n",
    "\n",
    "\n",
    "/*** CHALLENGE 9 ***/\n",
    "\n",
    "// add code here\n",
    "class DeveloperClass extends PersonClass {\n",
    "    constructor(name, age) {\n",
    "        super(name);\n",
    "        this.age = age;\n",
    "    }\n",
    "    introduce() { console.log(`Hello World, my name is ${this.name}`) }\n",
    "}\n",
    "\n",
    "// /********* Uncomment these lines to test your work! *********/\n",
    "const thai = new DeveloperClass('Thai', 32);\n",
    "console.log(thai.name); // -> Logs 'Thai'\n",
    "thai.introduce(); //-> Logs 'Hello World, my name is Thai'\n"
   ]
  },
  {
   "cell_type": "code",
   "execution_count": null,
   "metadata": {},
   "outputs": [],
   "source": []
  }
 ],
 "metadata": {
  "kernelspec": {
   "display_name": "Deno",
   "language": "typescript",
   "name": "deno"
  },
  "language_info": {
   "file_extension": ".ts",
   "mimetype": "text/x.typescript",
   "name": "typescript",
   "nb_converter": "script",
   "pygments_lexer": "typescript",
   "version": "5.3.3"
  }
 },
 "nbformat": 4,
 "nbformat_minor": 2
}
