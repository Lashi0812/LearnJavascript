{
 "cells": [
  {
   "cell_type": "markdown",
   "metadata": {},
   "source": [
    "# OOPs concept using function"
   ]
  },
  {
   "cell_type": "markdown",
   "metadata": {},
   "source": [
    "## Generate object using function"
   ]
  },
  {
   "cell_type": "code",
   "execution_count": 2,
   "metadata": {},
   "outputs": [],
   "source": [
    "function userCreation(name,score){\n",
    "    const newUser = {};\n",
    "    newUser.name = name;\n",
    "    newUser.score = score;\n",
    "    newUser.increment = function () {newUser.score++;}\n",
    "    return newUser;\n",
    "}"
   ]
  },
  {
   "cell_type": "code",
   "execution_count": 3,
   "metadata": {},
   "outputs": [
    {
     "name": "stdout",
     "output_type": "stream",
     "text": [
      "{ name: \"A\", score: 3, increment: [Function (anonymous)] }\n",
      "{ name: \"B\", score: 4, increment: [Function (anonymous)] }\n"
     ]
    }
   ],
   "source": [
    "const user1 = userCreation(\"A\",3);\n",
    "const user2 = userCreation(\"B\",4);\n",
    "\n",
    "console.log(user1);\n",
    "console.log(user2);\n"
   ]
  },
  {
   "cell_type": "code",
   "execution_count": 4,
   "metadata": {},
   "outputs": [
    {
     "name": "stdout",
     "output_type": "stream",
     "text": [
      "{ name: \"A\", score: 4, increment: [Function (anonymous)] }\n",
      "{ name: \"B\", score: 5, increment: [Function (anonymous)] }\n"
     ]
    }
   ],
   "source": [
    "user1.increment();\n",
    "user2.increment();\n",
    "\n",
    "console.log(user1);\n",
    "console.log(user2);"
   ]
  },
  {
   "cell_type": "markdown",
   "metadata": {},
   "source": [
    "1. Each time we create a new user we make space in our computer's memory for all our data and functions. But our functions are just copies\n",
    "2. Instead of creating copies , why just we refer the function object."
   ]
  },
  {
   "cell_type": "markdown",
   "metadata": {},
   "source": [
    "## Using the prototype chain"
   ]
  },
  {
   "cell_type": "code",
   "execution_count": 5,
   "metadata": {},
   "outputs": [],
   "source": [
    "const userFunctionStore = {\n",
    "    increment : function (){this.score++;}\n",
    "};\n",
    "\n",
    "function userCreation(name,score){\n",
    "    const newUser = Object.create(userFunctionStore);\n",
    "    newUser.name = name;\n",
    "    newUser.score = score;\n",
    "    return newUser;\n",
    "}"
   ]
  },
  {
   "cell_type": "code",
   "execution_count": 6,
   "metadata": {},
   "outputs": [
    {
     "name": "stdout",
     "output_type": "stream",
     "text": [
      "{ name: \"A\", score: 3 }\n",
      "{ name: \"B\", score: 4 }\n"
     ]
    }
   ],
   "source": [
    "const user1 = userCreation(\"A\",3);\n",
    "const user2 = userCreation(\"B\",4);\n",
    "\n",
    "console.log(user1);\n",
    "console.log(user2);\n"
   ]
  },
  {
   "cell_type": "code",
   "execution_count": 7,
   "metadata": {},
   "outputs": [
    {
     "name": "stdout",
     "output_type": "stream",
     "text": [
      "{ name: \"A\", score: 4 }\n",
      "{ name: \"B\", score: 5 }\n"
     ]
    }
   ],
   "source": [
    "user1.increment();\n",
    "user2.increment();\n",
    "\n",
    "console.log(user1);\n",
    "console.log(user2);"
   ]
  },
  {
   "cell_type": "markdown",
   "metadata": {},
   "source": [
    "1. user object does not hold the `increment` property in them , then how user can access the increment functions .\n",
    "2. Increment function stored in the `__proto__` property of every user object.\n",
    "\n",
    "> How increment function stored in the __proto__ property ?\n",
    ">\n",
    "> we can tell java script to store object in the __proto__ property via `Object.create()`\n",
    "\n",
    "> Why increment function stored in the __proto__ property ?\n",
    ">\n",
    "> Because we can inherit the property via __proto__.So we wont create the function copies in all user object."
   ]
  },
  {
   "cell_type": "code",
   "execution_count": 12,
   "metadata": {},
   "outputs": [
    {
     "name": "stdout",
     "output_type": "stream",
     "text": [
      "{ increment: [Function: increment] }\n",
      "{ increment: [Function: increment] }\n"
     ]
    }
   ],
   "source": [
    "console.log(Object.getPrototypeOf(user1))\n",
    "console.log(Object.getPrototypeOf(user2))"
   ]
  },
  {
   "cell_type": "markdown",
   "metadata": {},
   "source": [
    "## Using new keyword to automate the most of work\n",
    "\n",
    "1. Object creation\n",
    "2. Linking the proto\n",
    "3. return the object"
   ]
  },
  {
   "cell_type": "code",
   "execution_count": 15,
   "metadata": {},
   "outputs": [
    {
     "name": "stdout",
     "output_type": "stream",
     "text": [
      "UserCreation { name: \"A\", score: 3 }\n",
      "UserCreation { name: \"B\", score: 4 }\n"
     ]
    }
   ],
   "source": [
    "function UserCreation(name,score){\n",
    "    this.name = name;\n",
    "    this.score = score;\n",
    "}\n",
    "\n",
    "UserCreation.prototype.increment = function () {this.score++;};\n",
    "\n",
    "\n",
    "const user1 = new UserCreation(\"A\",3);\n",
    "const user2 = new UserCreation(\"B\",4);\n",
    "\n",
    "console.log(user1);\n",
    "console.log(user2);"
   ]
  },
  {
   "cell_type": "code",
   "execution_count": 16,
   "metadata": {},
   "outputs": [
    {
     "name": "stdout",
     "output_type": "stream",
     "text": [
      "UserCreation { name: \"A\", score: 4 }\n",
      "UserCreation { name: \"B\", score: 5 }\n"
     ]
    }
   ],
   "source": [
    "user1.increment();\n",
    "user2.increment();\n",
    "\n",
    "console.log(user1);\n",
    "console.log(user2);"
   ]
  },
  {
   "cell_type": "markdown",
   "metadata": {},
   "source": [
    "Since function is object + fn ---> \n",
    "1. we can have the fn part .. this access by the `()`\n",
    "2. we can have the object part .. this access by `.`\n",
    "\n",
    "\n",
    "we can use the `prototype` object in the function --> to store the shared function or property.\n",
    "When we use the `new` keyword to create object , it automatically put the `prototype` object in the function into user `__proto__` object.\n",
    "\n",
    "But this have the property and  method in different place. to avoid this we can use the class keyword."
   ]
  },
  {
   "cell_type": "code",
   "execution_count": 18,
   "metadata": {},
   "outputs": [
    {
     "data": {
      "text/plain": [
       "{ increment: \u001b[36m[Function (anonymous)]\u001b[39m }"
      ]
     },
     "execution_count": 18,
     "metadata": {},
     "output_type": "execute_result"
    }
   ],
   "source": [
    "UserCreation.prototype"
   ]
  },
  {
   "cell_type": "code",
   "execution_count": 19,
   "metadata": {},
   "outputs": [
    {
     "name": "stdout",
     "output_type": "stream",
     "text": [
      "{ increment: [Function (anonymous)] }\n",
      "{ increment: [Function (anonymous)] }\n"
     ]
    }
   ],
   "source": [
    "console.log(Object.getPrototypeOf(user1))\n",
    "console.log(Object.getPrototypeOf(user2))"
   ]
  },
  {
   "cell_type": "markdown",
   "metadata": {},
   "source": [
    "## using the class keyword"
   ]
  },
  {
   "cell_type": "code",
   "execution_count": 20,
   "metadata": {},
   "outputs": [
    {
     "name": "stdout",
     "output_type": "stream",
     "text": [
      "UserCreation1 { name: \"A\", score: 3 }\n",
      "UserCreation1 { name: \"B\", score: 4 }\n"
     ]
    }
   ],
   "source": [
    "class UserCreation1{\n",
    "    constructor (name,score){\n",
    "        this.name = name;\n",
    "        this.score = score;\n",
    "    }\n",
    "    increment() {this.score++;}\n",
    "}\n",
    "\n",
    "const user1 = new UserCreation1(\"A\",3);\n",
    "const user2 = new UserCreation1(\"B\",4);\n",
    "\n",
    "console.log(user1);\n",
    "console.log(user2);"
   ]
  },
  {
   "cell_type": "code",
   "execution_count": 21,
   "metadata": {},
   "outputs": [
    {
     "name": "stdout",
     "output_type": "stream",
     "text": [
      "UserCreation1 { name: \"A\", score: 4 }\n",
      "UserCreation1 { name: \"B\", score: 5 }\n"
     ]
    }
   ],
   "source": [
    "user1.increment();\n",
    "user2.increment();\n",
    "\n",
    "console.log(user1);\n",
    "console.log(user2);"
   ]
  },
  {
   "cell_type": "code",
   "execution_count": 33,
   "metadata": {},
   "outputs": [
    {
     "data": {
      "text/plain": [
       "[ \u001b[32m\"constructor\"\u001b[39m, \u001b[32m\"increment\"\u001b[39m ]"
      ]
     },
     "execution_count": 33,
     "metadata": {},
     "output_type": "execute_result"
    }
   ],
   "source": [
    "Object.getOwnPropertyNames(UserCreation1.prototype)"
   ]
  },
  {
   "cell_type": "markdown",
   "metadata": {},
   "source": [
    "1. class nothing but the syntactic sugar . it just do same thing as we done in Using new and Prototype Chain\n",
    "2. constructor hold the property ."
   ]
  },
  {
   "cell_type": "code",
   "execution_count": null,
   "metadata": {},
   "outputs": [],
   "source": []
  }
 ],
 "metadata": {
  "kernelspec": {
   "display_name": "Deno",
   "language": "typescript",
   "name": "deno"
  },
  "language_info": {
   "file_extension": ".ts",
   "mimetype": "text/x.typescript",
   "name": "typescript",
   "nb_converter": "script",
   "pygments_lexer": "typescript",
   "version": "5.3.3"
  }
 },
 "nbformat": 4,
 "nbformat_minor": 2
}
